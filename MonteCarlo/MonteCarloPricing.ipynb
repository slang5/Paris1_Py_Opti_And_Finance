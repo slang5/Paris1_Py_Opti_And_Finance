{
 "cells": [
  {
   "cell_type": "code",
   "execution_count": 103,
   "metadata": {},
   "outputs": [],
   "source": [
    "import numpy as np\n",
    "import scipy.stats as scp"
   ]
  },
  {
   "cell_type": "code",
   "execution_count": 104,
   "metadata": {},
   "outputs": [],
   "source": [
    "def AssetValueByMC(S0,T,sd,rf,e):\n",
    "    ST = S0 * np.exp(T *(rf - (sd*sd)/2) + (sd*np.sqrt(T)*(e)))\n",
    "    return ST\n",
    "\n",
    "def Call(rf,T,ST,K):\n",
    "    C = np.exp(-rf*T)*np.maximum(0,ST-K)\n",
    "    return C\n",
    "\n",
    "def CallBS(S0,K,T,sd,rf):\n",
    "    d1 = 1/(sd*np.sqrt(T))*(np.log(S0/K) +T*(rf+1/2 * (sd**2)))\n",
    "    d2 = d1 - sd*np.sqrt(T)\n",
    "    C = S0 * scp.norm.cdf(d1)-K*scp.norm.cdf(d2)*np.exp(-rf*T)\n",
    "    return C\n",
    "\n",
    "def CallMonteCarlo(S0,K,T,sd,rf,iter):\n",
    "    C = np.mean([Call(rf,T,AssetValueByMC(S0,T,sd,rf,i),K) for i in np.random.normal(0,1,iter)])\n",
    "    return C"
   ]
  },
  {
   "cell_type": "code",
   "execution_count": 105,
   "metadata": {},
   "outputs": [],
   "source": [
    "Prix_CallMC = CallMonteCarlo(S0=10,K=10,T=1,sd=0.2,rf=0.03,iter=2**15)\n",
    "Prix_CallBS = CallBS(10,K=10,T=1,sd=0.2,rf=0.03)\n",
    "#print(f'Prix du call\\nMonte Carlo {Prix_CallMC}\\nBlack And Scholes {Prix_CallBS}')"
   ]
  },
  {
   "cell_type": "markdown",
   "metadata": {},
   "source": [
    "Prix du call:\n",
    "\n",
    "Monte Carlo 0.9418881886630102\n",
    "\n",
    "Black And Scholes 0.9413403383853005"
   ]
  },
  {
   "cell_type": "markdown",
   "metadata": {},
   "source": [
    "En développant passant au $$\\ln(.)$$ L'expression de $$S_T = S_0 * exp\\Big((r-\\frac{\\sigma^2}{2} )*T+\\sigma\\sqrt{T}*\\epsilon \\Big)$$ On peut connaitre la loi suivie par $$S_T$$ Ensuite on détermine un intervalle de confiance de $$ln(S_T)$$ Selon le seuil $$\\alpha$$ Puis on passe chaque borne à l'exponentielle afin d'avoir un intervalle de confinance de $$S_T$$\n"
   ]
  },
  {
   "cell_type": "code",
   "execution_count": 106,
   "metadata": {},
   "outputs": [],
   "source": [
    "Call_OTM_MC = CallMonteCarlo(10,15,1,0.2,0.03,2**15)\n",
    "Call_OTM_BS = CallBS(10,15,1,0.2,0.03)\n",
    "#print(f'Prix du call Out of the money\\nMonte Carlo {Call_OTM_MC}\\nBlack And Scholes {Call_OTM_BS}')"
   ]
  },
  {
   "cell_type": "markdown",
   "metadata": {},
   "source": [
    "Prix du call Out of the money\n",
    "\n",
    "Monte Carlo 0.029731738074301125\n",
    "\n",
    "Black And Scholes 0.028177817015465567"
   ]
  },
  {
   "cell_type": "code",
   "execution_count": 107,
   "metadata": {},
   "outputs": [],
   "source": [
    "def CallMonteCarlo_Antithetic(S0,K,T,sd,rf,iter):\n",
    "    C = np.mean([([Call(rf,T,AssetValueByMC(S0,T,sd,rf,(i)),K),\n",
    "                          Call(rf,T,AssetValueByMC(S0,T,sd,rf,-(i)),K)\n",
    "                            ]) for i in np.random.normal(0,1,iter)])\n",
    "    return C"
   ]
  },
  {
   "cell_type": "code",
   "execution_count": 108,
   "metadata": {},
   "outputs": [
    {
     "data": {
      "text/plain": [
       "0.9437542135945908"
      ]
     },
     "execution_count": 108,
     "metadata": {},
     "output_type": "execute_result"
    }
   ],
   "source": [
    "C = CallMonteCarlo_Antithetic(10,10,1,0.2,0.03,2**15)\n",
    "C"
   ]
  },
  {
   "cell_type": "markdown",
   "metadata": {},
   "source": [
    "Avec une variable antithétique on a des résultats qui se rapprochent légèrement du prix B&S avec une variance inférieure au cas sans variable antithétique"
   ]
  },
  {
   "cell_type": "markdown",
   "metadata": {},
   "source": [
    "Pour la suite on peut appliquer les mêmes résultats pour avoir un put, puis utiliser la relation de parité call-put afin d'avoir méthode de réduction de la variance nommée control variates en sachant que la relation de partié nous donne un estimateur sans biais du prix d'un call sachant les autres paramètres de la formule. $$Call^* = Call_{{MC}} + c * (Put_{MC}-Put_{Parité})$$"
   ]
  },
  {
   "cell_type": "code",
   "execution_count": 109,
   "metadata": {},
   "outputs": [],
   "source": [
    "def Put(rf,T,ST,K):\n",
    "    C = np.exp(-rf*T)*np.maximum(0,K-ST)\n",
    "    return C\n",
    "\n",
    "def PutMonteCarlo(S0,K,T,sd,rf,iter):\n",
    "    C = np.mean([Put(rf,T,AssetValueByMC(S0,T,sd,rf,i),K) for i in np.random.normal(0,1,iter)])\n",
    "    return C\n",
    "\n",
    "def Call_MC_ControlVariate(S0,K,T,sd,rf,iter):\n",
    "    S_T = [AssetValueByMC(S0,T,sd,rf,i) for i in np.random.normal(0,1,iter)]\n",
    "    Call_MC = [Call(rf,T,i,K) for i in S_T]\n",
    "    MatriceCOV = np.cov(Call_MC,S_T)\n",
    "    Call_MC = np.mean(Call_MC)\n",
    "    C_opt = MatriceCOV[0][1]/MatriceCOV[1][1]\n",
    "    Put_parite = Call_MC - S0 + K * np.exp(-rf*T)\n",
    "    Put_MC = np.mean([Put(rf,T,i,K) for i in S_T])\n",
    "    return Call_MC+C_opt*(Put_MC-Put_parite)\n"
   ]
  },
  {
   "cell_type": "code",
   "execution_count": 110,
   "metadata": {},
   "outputs": [
    {
     "data": {
      "text/plain": [
       "0.9409473848001869"
      ]
     },
     "execution_count": 110,
     "metadata": {},
     "output_type": "execute_result"
    }
   ],
   "source": [
    "Call_MC_ControlVariate(10,10,1,0.2,0.03,2**18)"
   ]
  },
  {
   "cell_type": "markdown",
   "metadata": {},
   "source": [
    "La variable de contrôle permet d'affiner les résultats en réduisant la variance"
   ]
  }
 ],
 "metadata": {
  "kernelspec": {
   "display_name": "Python 3",
   "language": "python",
   "name": "python3"
  },
  "language_info": {
   "codemirror_mode": {
    "name": "ipython",
    "version": 3
   },
   "file_extension": ".py",
   "mimetype": "text/x-python",
   "name": "python",
   "nbconvert_exporter": "python",
   "pygments_lexer": "ipython3",
   "version": "3.11.8"
  }
 },
 "nbformat": 4,
 "nbformat_minor": 2
}
